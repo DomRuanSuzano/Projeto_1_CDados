{
 "cells": [
  {
   "cell_type": "markdown",
   "metadata": {},
   "source": [
    "# Projeto 1 - Ciência dos Dados"
   ]
  },
  {
   "cell_type": "markdown",
   "metadata": {},
   "source": [
    "Nome: Dom Ruan Suzano\n",
    "\n",
    "Nome: Hudson Monteiro"
   ]
  },
  {
   "cell_type": "markdown",
   "metadata": {},
   "source": [
    "<img src='pepsi.png'>"
   ]
  },
  {
   "cell_type": "markdown",
   "metadata": {},
   "source": [
    "O produto analisado foi a marca pepsi, utilizamos tweets do banco de dados e consideramos a classificação de relevância e irrelevância baseado em adjetivação sobre a marca sendo de forma positiva ou negativa e irrelevante tweets que possuíam comentários que não tinham correlação coerente com a marca."
   ]
  },
  {
   "cell_type": "markdown",
   "metadata": {},
   "source": [
    "___\n",
    "Carregando algumas bibliotecas:"
   ]
  },
  {
   "cell_type": "code",
   "execution_count": 1,
   "metadata": {},
   "outputs": [],
   "source": [
    "%matplotlib inline\n",
    "import pandas as pd\n",
    "import matplotlib.pyplot as plt\n",
    "import numpy as np\n",
    "import os"
   ]
  },
  {
   "cell_type": "markdown",
   "metadata": {},
   "source": [
    "Carregando algumas bibliotecas para limpeza"
   ]
  },
  {
   "cell_type": "code",
   "execution_count": 2,
   "metadata": {},
   "outputs": [
    {
     "name": "stderr",
     "output_type": "stream",
     "text": [
      "[nltk_data] Downloading package stopwords to C:\\Users\\Dom\n",
      "[nltk_data]     Ruan\\AppData\\Roaming\\nltk_data...\n",
      "[nltk_data]   Package stopwords is already up-to-date!\n"
     ]
    },
    {
     "name": "stdout",
     "output_type": "stream",
     "text": [
      "Requirement already satisfied: emoji in c:\\users\\dom ruan\\anaconda3\\lib\\site-packages (1.5.0)\n"
     ]
    }
   ],
   "source": [
    "import nltk\n",
    "nltk.download('stopwords')\n",
    "from nltk.corpus import stopwords\n",
    "!pip install emoji\n",
    "import emoji"
   ]
  },
  {
   "cell_type": "markdown",
   "metadata": {},
   "source": [
    "Confirmação do diretório"
   ]
  },
  {
   "cell_type": "code",
   "execution_count": 3,
   "metadata": {
    "scrolled": false
   },
   "outputs": [
    {
     "name": "stdout",
     "output_type": "stream",
     "text": [
      "Esperamos trabalhar no diretório\n",
      "C:\\Users\\Dom Ruan\\2° Semestre Eng\\C.Dados\\Projeto_1_CDados\n"
     ]
    }
   ],
   "source": [
    "print('Esperamos trabalhar no diretório')\n",
    "print(os.getcwd())"
   ]
  },
  {
   "cell_type": "markdown",
   "metadata": {},
   "source": [
    "## Análise do Banco de Dados"
   ]
  },
  {
   "cell_type": "markdown",
   "metadata": {},
   "source": [
    "Carregando a base de dados com os tweets classificados como relevantes e não relevantes:"
   ]
  },
  {
   "cell_type": "code",
   "execution_count": 4,
   "metadata": {},
   "outputs": [],
   "source": [
    "filename = 'pepsi.xlsx'"
   ]
  },
  {
   "cell_type": "code",
   "execution_count": 5,
   "metadata": {},
   "outputs": [
    {
     "data": {
      "text/html": [
       "<div>\n",
       "<style scoped>\n",
       "    .dataframe tbody tr th:only-of-type {\n",
       "        vertical-align: middle;\n",
       "    }\n",
       "\n",
       "    .dataframe tbody tr th {\n",
       "        vertical-align: top;\n",
       "    }\n",
       "\n",
       "    .dataframe thead th {\n",
       "        text-align: right;\n",
       "    }\n",
       "</style>\n",
       "<table border=\"1\" class=\"dataframe\">\n",
       "  <thead>\n",
       "    <tr style=\"text-align: right;\">\n",
       "      <th></th>\n",
       "      <th>Treinamento</th>\n",
       "      <th>Relevância</th>\n",
       "    </tr>\n",
       "  </thead>\n",
       "  <tbody>\n",
       "    <tr>\n",
       "      <th>0</th>\n",
       "      <td>namoral n tem refrigerante melhor q o da pepsi...</td>\n",
       "      <td>1</td>\n",
       "    </tr>\n",
       "    <tr>\n",
       "      <th>1</th>\n",
       "      <td>a pepsi fez o logo baseado na gravidade sobre ...</td>\n",
       "      <td>1</td>\n",
       "    </tr>\n",
       "    <tr>\n",
       "      <th>2</th>\n",
       "      <td>@erongranth neo química, kalunga e pepsi acho ...</td>\n",
       "      <td>1</td>\n",
       "    </tr>\n",
       "    <tr>\n",
       "      <th>3</th>\n",
       "      <td>mataria por um refri geladinho agr mas so tem ...</td>\n",
       "      <td>1</td>\n",
       "    </tr>\n",
       "    <tr>\n",
       "      <th>4</th>\n",
       "      <td>@pitta_ai e dionísio, o cara viciado em pepsi</td>\n",
       "      <td>1</td>\n",
       "    </tr>\n",
       "    <tr>\n",
       "      <th>5</th>\n",
       "      <td>@jujuubuenoo pepsi® geladinha tem um gostinho ...</td>\n",
       "      <td>0</td>\n",
       "    </tr>\n",
       "    <tr>\n",
       "      <th>6</th>\n",
       "      <td>escreva isso ou aquilo usando a tag #sonkezsen...</td>\n",
       "      <td>0</td>\n",
       "    </tr>\n",
       "    <tr>\n",
       "      <th>7</th>\n",
       "      <td>@elitavres pepsi® é tudo de bom, fala aí! 😉💙❤</td>\n",
       "      <td>0</td>\n",
       "    </tr>\n",
       "    <tr>\n",
       "      <th>8</th>\n",
       "      <td>@pepsibr pq as pepsi ta vindo tao sem gas????</td>\n",
       "      <td>1</td>\n",
       "    </tr>\n",
       "    <tr>\n",
       "      <th>9</th>\n",
       "      <td>ele só queria uma pepsi</td>\n",
       "      <td>1</td>\n",
       "    </tr>\n",
       "  </tbody>\n",
       "</table>\n",
       "</div>"
      ],
      "text/plain": [
       "                                         Treinamento  Relevância\n",
       "0  namoral n tem refrigerante melhor q o da pepsi...           1\n",
       "1  a pepsi fez o logo baseado na gravidade sobre ...           1\n",
       "2  @erongranth neo química, kalunga e pepsi acho ...           1\n",
       "3  mataria por um refri geladinho agr mas so tem ...           1\n",
       "4      @pitta_ai e dionísio, o cara viciado em pepsi           1\n",
       "5  @jujuubuenoo pepsi® geladinha tem um gostinho ...           0\n",
       "6  escreva isso ou aquilo usando a tag #sonkezsen...           0\n",
       "7      @elitavres pepsi® é tudo de bom, fala aí! 😉💙❤           0\n",
       "8      @pepsibr pq as pepsi ta vindo tao sem gas????           1\n",
       "9                            ele só queria uma pepsi           1"
      ]
     },
     "execution_count": 5,
     "metadata": {},
     "output_type": "execute_result"
    }
   ],
   "source": [
    "train = pd.read_excel(filename)\n",
    "train.head(10)"
   ]
  },
  {
   "cell_type": "code",
   "execution_count": 6,
   "metadata": {},
   "outputs": [
    {
     "data": {
      "text/html": [
       "<div>\n",
       "<style scoped>\n",
       "    .dataframe tbody tr th:only-of-type {\n",
       "        vertical-align: middle;\n",
       "    }\n",
       "\n",
       "    .dataframe tbody tr th {\n",
       "        vertical-align: top;\n",
       "    }\n",
       "\n",
       "    .dataframe thead th {\n",
       "        text-align: right;\n",
       "    }\n",
       "</style>\n",
       "<table border=\"1\" class=\"dataframe\">\n",
       "  <thead>\n",
       "    <tr style=\"text-align: right;\">\n",
       "      <th></th>\n",
       "      <th>Teste</th>\n",
       "      <th>Relevância</th>\n",
       "    </tr>\n",
       "  </thead>\n",
       "  <tbody>\n",
       "    <tr>\n",
       "      <th>0</th>\n",
       "      <td>@trishteza uma pepsi® é coisa de outro mundo, ...</td>\n",
       "      <td>0</td>\n",
       "    </tr>\n",
       "    <tr>\n",
       "      <th>1</th>\n",
       "      <td>@cultwolverine pepsi arena ia ficar muito mais...</td>\n",
       "      <td>1</td>\n",
       "    </tr>\n",
       "    <tr>\n",
       "      <th>2</th>\n",
       "      <td>@alisonbap pepsi e melhor</td>\n",
       "      <td>1</td>\n",
       "    </tr>\n",
       "    <tr>\n",
       "      <th>3</th>\n",
       "      <td>realizando uma pesquisa científica com meus am...</td>\n",
       "      <td>0</td>\n",
       "    </tr>\n",
       "    <tr>\n",
       "      <th>4</th>\n",
       "      <td>pizza tomando minha pepsi com limão melhorou o...</td>\n",
       "      <td>1</td>\n",
       "    </tr>\n",
       "  </tbody>\n",
       "</table>\n",
       "</div>"
      ],
      "text/plain": [
       "                                               Teste  Relevância\n",
       "0  @trishteza uma pepsi® é coisa de outro mundo, ...           0\n",
       "1  @cultwolverine pepsi arena ia ficar muito mais...           1\n",
       "2                          @alisonbap pepsi e melhor           1\n",
       "3  realizando uma pesquisa científica com meus am...           0\n",
       "4  pizza tomando minha pepsi com limão melhorou o...           1"
      ]
     },
     "execution_count": 6,
     "metadata": {},
     "output_type": "execute_result"
    }
   ],
   "source": [
    "test = pd.read_excel(filename, sheet_name = 'Teste')\n",
    "test.head(5)"
   ]
  },
  {
   "cell_type": "markdown",
   "metadata": {},
   "source": [
    "___\n",
    "## Classificador automático de sentimento\n"
   ]
  },
  {
   "cell_type": "markdown",
   "metadata": {},
   "source": [
    "\n",
    "Nosso produto é o refrigerante pepsi,um refrigerante norte-americano com sabor de cola, consideramos como relevante os tweets que falavam bem ou mal tanto da marca como do produto, além disso exceções  como tweets feito pelo twitter da pepsi foram considerados irrelevantes mesmo que falassem bem."
   ]
  },
  {
   "cell_type": "markdown",
   "metadata": {},
   "source": [
    "Definindo funções"
   ]
  },
  {
   "cell_type": "code",
   "execution_count": 7,
   "metadata": {},
   "outputs": [],
   "source": [
    "def stop_words(lista):\n",
    "    nova_lista = []\n",
    "    for a in lista:\n",
    "        if a not in stopwords.words('portuguese'):\n",
    "            nova_lista.append(a)\n",
    "    return nova_lista"
   ]
  },
  {
   "cell_type": "code",
   "execution_count": 8,
   "metadata": {},
   "outputs": [],
   "source": [
    "# Limpa os tweets, tira os pontos desnecessários\n",
    "import re \n",
    "\n",
    "\n",
    "def cleanup(text):\n",
    "    \"\"\"\n",
    "        Função de limpeza muito simples que troca alguns sinais básicos por espaços\n",
    "    \"\"\"\n",
    "    #import string\n",
    "    punctuation = '[®,!-.:?;]' # Note que os sinais [] são delimitadores de um conjunto.\n",
    "    pattern = re.compile(punctuation)\n",
    "    text_subbed = re.sub(pattern, '', text)\n",
    "    return text_subbed"
   ]
  },
  {
   "cell_type": "code",
   "execution_count": 9,
   "metadata": {},
   "outputs": [],
   "source": [
    "def separa_emoji(text):\n",
    "    modified=' '.join(emoji.get_emoji_regexp().split(text))\n",
    "    return modified"
   ]
  },
  {
   "cell_type": "code",
   "execution_count": 10,
   "metadata": {},
   "outputs": [],
   "source": [
    "# retira o arroba(@)\n",
    "def limpa_arrobas(texto):\n",
    "    novo_texto = []\n",
    "    for t in texto.split():\n",
    "        if t[0] != '@':\n",
    "            novo_texto.append(t)\n",
    "    novo_texto = ' '.join(novo_texto)\n",
    "    return novo_texto"
   ]
  },
  {
   "cell_type": "code",
   "execution_count": 11,
   "metadata": {},
   "outputs": [],
   "source": [
    "# Limpa os links do tweet\n",
    "def limpa_links(texto):\n",
    "    novo_texto = []\n",
    "    for t in texto.split():\n",
    "        if len(t) > 4 and t[0:4] != 'http':\n",
    "            novo_texto.append(t)\n",
    "    novo_texto = ' '.join(novo_texto)\n",
    "    return novo_texto"
   ]
  },
  {
   "cell_type": "code",
   "execution_count": 12,
   "metadata": {},
   "outputs": [],
   "source": [
    "#Função que deixa todas as letras de uma frase minuscúlas e separa ela em uma lista\n",
    "def tokenization(string):\n",
    "    return string.lower().split()"
   ]
  },
  {
   "cell_type": "code",
   "execution_count": 13,
   "metadata": {},
   "outputs": [],
   "source": [
    "def limpa_texto(texto):\n",
    "    texto = limpa_arrobas(limpa_links(separa_emoji(cleanup(texto))))\n",
    "    return texto"
   ]
  },
  {
   "cell_type": "code",
   "execution_count": 14,
   "metadata": {},
   "outputs": [],
   "source": [
    "# aplicando num texto\n",
    "for a in range(300):\n",
    "    texto = train.loc[a,\"Treinamento\"]\n",
    "    texto = str(texto)\n",
    "    texto = limpa_texto(texto)\n",
    "    train.loc[a,\"Treinamento\"] = texto"
   ]
  },
  {
   "cell_type": "code",
   "execution_count": 15,
   "metadata": {},
   "outputs": [],
   "source": [
    "for a in range(200):\n",
    "    texto = test.loc[a,\"Teste\"]\n",
    "    texto = str(texto)\n",
    "    texto = limpa_texto(texto)\n",
    "    test.loc[a,\"Teste\"] = texto"
   ]
  },
  {
   "cell_type": "markdown",
   "metadata": {},
   "source": [
    "## Separando os tweets"
   ]
  },
  {
   "cell_type": "markdown",
   "metadata": {},
   "source": [
    "Relevantes\n",
    "\n",
    "frequências Absolutas"
   ]
  },
  {
   "cell_type": "code",
   "execution_count": 18,
   "metadata": {},
   "outputs": [
    {
     "data": {
      "text/plain": [
       "Treinamento                                                                        Relevância\n",
       "pepsi                                                                              1             9\n",
       "pepsi melhor                                                                       1             4\n",
       "única coisa compensou pepsi infelizmente daquela garrafinha                        1             1\n",
       "gosto pepsi pepsi twist outro nível otimo refrigerante                             1             1\n",
       "gostar pepsi negar décadas fazem campanhas marketing serão lembradas sempre delas  1             1\n",
       "                                                                                                ..\n",
       "pepsi melhor passagem                                                              1             1\n",
       "pepsi melhor dependente tratar                                                     1             1\n",
       "pepsi maracujá                                                                     1             1\n",
       "pepsi maior melhor                                                                 1             1\n",
       "acabei fazer descoberta pepsi black açúcar melhor                                  1             1\n",
       "Length: 148, dtype: int64"
      ]
     },
     "execution_count": 18,
     "metadata": {},
     "output_type": "execute_result"
    }
   ],
   "source": [
    "# Relevantes \n",
    "rel = train[train['Relevância'] ==1]\n",
    "\n",
    "# frequencia absoluta\n",
    "rel_freq_abs = rel.value_counts()\n",
    "rel_freq_abs"
   ]
  },
  {
   "cell_type": "markdown",
   "metadata": {},
   "source": [
    "Irrelevantes\n",
    "\n",
    "frequências Absolutas"
   ]
  },
  {
   "cell_type": "code",
   "execution_count": 19,
   "metadata": {},
   "outputs": [
    {
     "data": {
      "text/plain": [
       "Treinamento                                        Relevância\n",
       "pepsi                                              0             7\n",
       "triangular bread                                   0             3\n",
       "minha buceta gosto pepsi                           0             2\n",
       "época óculos festa pepsi achando arrasando         0             1\n",
       "então psicólogo pepsi pessoas pensam sinceramente  0             1\n",
       "                                                                ..\n",
       "pepsi gtgtgtgtgt respeito tijucano                 0             1\n",
       "pepsi kkkkkk                                       0             1\n",
       "pepsi nossa reles compreensão                      0             1\n",
       "pepsi pegar largar                                 0             1\n",
       "                                                   0             1\n",
       "Length: 132, dtype: int64"
      ]
     },
     "execution_count": 19,
     "metadata": {},
     "output_type": "execute_result"
    }
   ],
   "source": [
    "# Irrelevantes\n",
    "irr = train[train['Relevância'] ==0]\n",
    "\n",
    "# Frequancia absoluta\n",
    "irr_freq_abs = irr.value_counts()\n",
    "\n",
    "irr_freq_abs"
   ]
  },
  {
   "cell_type": "code",
   "execution_count": 20,
   "metadata": {},
   "outputs": [],
   "source": [
    "\n",
    "#Relevantes\n",
    "palavras_relevantes = rel['Treinamento']\n",
    "relev_string = ''\n",
    "for tweet in palavras_relevantes:\n",
    "    relev_string += ' ' + tweet\n",
    "palav_relev = stop_words(tokenization(relev_string))\n",
    "\n",
    "# Irrelevantes\n",
    "palavras_irrelevantes = irr['Treinamento']\n",
    "irrelev_string = ''\n",
    "for tweet in palavras_irrelevantes:\n",
    "    irrelev_string += ' ' + tweet\n",
    "palav_irrelev = stop_words(tokenization(irrelev_string))"
   ]
  },
  {
   "cell_type": "markdown",
   "metadata": {},
   "source": [
    "Todos os tweets"
   ]
  },
  {
   "cell_type": "code",
   "execution_count": 21,
   "metadata": {},
   "outputs": [],
   "source": [
    "# pd Series de todas as palavras\n",
    "todas_palavras = palav_relev + palav_irrelev\n",
    "serie_todas_palavras = pd.Series(todas_palavras)\n",
    "\n",
    "# frequencia todas palavras relativa\n",
    "tabela_todas_palavras_relativa = serie_todas_palavras.value_counts(True)\n",
    "tabela_todas_palavras_relativa\n",
    "\n",
    "#frequencia de Todas palavras absolutas\n",
    "tabela_todas_palavras_abs = serie_todas_palavras.value_counts()\n"
   ]
  },
  {
   "cell_type": "code",
   "execution_count": 22,
   "metadata": {},
   "outputs": [],
   "source": [
    "# Palavras sem repetição\n",
    "palavras_sem_repeticao = list(set(todas_palavras))"
   ]
  },
  {
   "cell_type": "code",
   "execution_count": 23,
   "metadata": {},
   "outputs": [],
   "source": [
    "# tabela relevantes e irrelevantes\n",
    "serie_relevantes = pd.Series(palav_relev)\n",
    "serie_irrelevantes = pd.Series(palav_irrelev)"
   ]
  },
  {
   "cell_type": "code",
   "execution_count": 24,
   "metadata": {},
   "outputs": [],
   "source": [
    "# frequencias relativas relevantes e irrelevantes\n",
    "tabela_relevantes_relativa = serie_relevantes.value_counts(True)\n",
    "tabela_irrelevantes_relativa = serie_irrelevantes.value_counts(True)\n",
    "\n",
    "rel_freq_abs = serie_relevantes.value_counts()\n",
    "irr_freq_abs = serie_irrelevantes.value_counts()"
   ]
  },
  {
   "cell_type": "markdown",
   "metadata": {},
   "source": [
    "## Probabilidades "
   ]
  },
  {
   "cell_type": "code",
   "execution_count": 26,
   "metadata": {},
   "outputs": [],
   "source": [
    "#probabilides iniciais\n",
    "\n",
    "# calculando a probabilidade de ser relevante e irrelente\n",
    "P_rel = len(palav_relev)/len(todas_palavras)\n",
    "P_irr = len(palav_irrelev)/len(todas_palavras)"
   ]
  },
  {
   "cell_type": "markdown",
   "metadata": {},
   "source": [
    "## Naive Bayes"
   ]
  },
  {
   "cell_type": "markdown",
   "metadata": {},
   "source": [
    "O algoritmo “Naive Bayes” é um classificador probabilístico baseado no “Teorema de Bayes”, o qual foi criado por Thomas Bayes (1701 - 1761) para tentar provar a existência de Deus.\n",
    "\n",
    "Atualmente, esse algoritmo é utilizado na área de $Data Science$ tendo a funcionalidade de categorizar textos com base na frequência de palavras que aparecem no mesmo.\n",
    "\n",
    "A melhor parte deste algoritmo vem da sua ingenuidade ($naive$ em inglês)! Com isso nós queremos dizer que ele desconsidera a correlação de palavras(variáveis) e trata elas de forma independente.\n",
    "\n",
    "Mas agora vamos as contas! Como de fato nós podemos utilizar esse algoritmo na programação? Bom, trazendo esse projeto como exemplo, temos:\n",
    "\n",
    "O teorema de Naive Bayes consiste em calcular\n",
    "\n",
    "probabilidades partindo de eventos posteriores (ser relevante, dado que foi classificado como relevante), multiplicando pela probabilidade de o tweet ser de fato relevante pela probabilidade “ser classificado como relevante, dado que o tweet é relevante”. De forma análoga a isso se aplica para os tweets irrelevantes.\n",
    "\n",
    "Como a soma dessas probabilidades para os tweets relevantes e irrelevantes deve resultar em 1, é necessário normalizar esses valores e isso é feito dividindo cada um desses pela soma de ambos.\n",
    "\n",
    "Mas agora vamos mostrar isso com um pouco de matemática:\n",
    "\n",
    "Definindo algumas probabilidades:\n",
    "\n",
    "\n",
    "$P(Tweet|Relevante)$: probabilidade de classificar o tweet como relevante dado que o tweet é relevante;\n",
    "$P(Tweet|Irrelevante)$: probabilidade de classificar o tweet como irrelevante dado que o twwet é irrelevante;\n",
    "$P(Relevante)$: probabilidade do tweet ser relevante;\n",
    "$P(Irrelevante)$: probabilidade do tweet ser irrelevante;\n",
    "$P(Tweet)$: probabilidade de um tweet qualquer ocorrer.\n",
    "$$P(Relevante|Tweet) = \\frac{P(Tweet|Relevente) P(Relevante)}{P(Tweet)}$$\n",
    "\n",
    "\n",
    "\n",
    "\n",
    "O processo é análogo para $P(Irrelevante|tweet)$:\n",
    "\n",
    "\n",
    "\n",
    "$$P(Irrelevante|Tweet) = \\frac{P(Tweet|Irrelevante) P(Irrelevante)}{P(Tweet)}$$\n",
    "\n",
    "\n",
    "Mas como podemos calcular cada um desses termos para saber se o tweet é relevante ou irrelevante?\n",
    "Bom, primeiramente vamos calcular as seguintes probabilidades: $P(Relevante)$ e $P(Irrelevante)$.\n",
    "\n",
    "Quantidade de palavras dos tweets relevantes: $Qr$\n",
    "Quantidadede de palavras dos tweets irrelevantes: $Qirr$\n",
    "Quantidade de palavras totais: $Qt$\n",
    "\n",
    "\n",
    "$$P(Relevante) = \\frac{Qr}{Qt}$$\n",
    "\n",
    "\n",
    "\n",
    "\n",
    "$$P(Irrelevante) = \\frac{Qirr}{Qt}$$\n",
    "\n",
    "\n",
    "Feito isso, vamos calcular as seguinte probabilidades: $P(Tweet|Relevante)$ e $P(Tweet|Irrelevante)$.\n",
    "\n",
    "Para calcular essas probabilidades é necessário separar as\n",
    "\n",
    "palavras de um determinado tweet, observar a frequência absoluta de vezes que essa palavra aparece no total de palavras relevantes ou irrelevantes, e dividir pelo valor total de palavras que estão no conjunto de palavras relevantes ou irrelevantes. Após feito isso é necessário multiplicar o valor obtido para cada palavra e assim temos a probabilidade $P(Tweet|Relevante ou Irrelevante)$ para um determinado tweet. Isso tudo graças a independência de palavras do algoritmo Naive Bayes. Mas esse método tem um problema, e se a frequência absoluta de uma determinada palavra for 0, ou seja, se ela não estiver na nossa base de dados treinamento ?\n",
    "\n",
    "\n",
    "\n",
    "O Classificador de Naive Bayes se baseia na construção de um modelo bag-of-word. Na análise de sentimento, queremos responder a seguinte pergunta: \"Qual a probabilidade dessa frase ser relevante, dado esse conjunto de palavras?\". Nesse sentido, é necessário computar esse cálculo utilizando probabilidades condicionais e o resultado do teorema de Bayes encontrado na sessão anterior:\n",
    "\n",
    "\n",
    "Dessa forma, nós vamos usar essa relação para encontrar $P(R|frase)$, ou seja, a probabilidade de uma frase ser relevante, dado o conjunto de palavras. Se quisermos encontrar essa probabilidade faremos a seguinte operação:\n",
    "$$P(R|frase) = \\frac{P(frase|R).P(R)}{P(frase)}$$\n",
    "Para prosseguir, utilizaremos um processo de \"Tokenização\", que consiste em dividir a frase em pedaços menores (as palavras) e assumir que uma palavra não influencia na colocação da outra. Sabemos que isso não é verdade, mas utilizaremos por questões de simplificação (essa é a ingenuidade do classificador de Naive Bayes)\n",
    "\n",
    "De forma análoga é possivel encontrar:\n",
    "$$P(I|frase) = \\frac{P(frase|I).P(I)}{P(frase)}$$\n",
    "\n",
    "Agora, basta compararmos os valores das probabilidades:\n",
    "\n",
    "Se, $P(R|frase) > P(I|frase)$, então, é mais provável que a frase seja $relevante$\n",
    "\n",
    "Caso contrário, $P(R|frase) < P(I|frase)$, então, é mais provável que a frase seja $irrelevante$\n"
   ]
  },
  {
   "cell_type": "markdown",
   "metadata": {},
   "source": [
    "## Suavização de Laplace\n",
    "\n",
    "Para corrigir este problema, pode ser usado a correção Laplaciana, que se resume na adição de registros “fictícios” no conjunto de treinamento, de forma que não apareçam atributos de frequência zero e o problema seja contornado. Vale destacar, que a adição de registros irá causar a mudança dos valores de probabilidade calculados inicialmente.\n",
    "Se a quantidade de dados utilizados para treinar o modelo for pequena, a aplicação dessa técnica surtirá numa maior distorção sobre os dados originais.\n",
    "\n",
    "$$P(Palavra|Relevante) = \\frac{0 + 1}{Qr + Qtp}$$\n",
    "\n",
    "Sendo assim, nós teremos uma fórmula geral descrita da forma:\n",
    "\n",
    "Frequência absoluta da palavra na lista de palavras relevantes: $Far$\n",
    "Frequência absoluta da palavra na lista de palavras irrelevantes: $Fairr$\n",
    "\n",
    "\n",
    "$$P(Palavra|Relevante) = \\frac{Far + 1}{Qr + Qtp}$$\n",
    "\n",
    "\n",
    "O raciocínio é análogo para a lista irrelevante:\n",
    "\n",
    "\n",
    "\n",
    "$$P(Palavra|Irrelevante) = \\frac{Fairr + 1}{Qirr + Qtp}$$"
   ]
  },
  {
   "cell_type": "code",
   "execution_count": 27,
   "metadata": {},
   "outputs": [],
   "source": [
    "#Suavização de Laplace para corrigir possiveis palavras fora da minha base de dados\n",
    "def smoothing(palavra, frequencia_absoluta, palavras_sem_repeticao, relevancia, alpha=1):\n",
    "    resultado = 0\n",
    "    try:\n",
    "        absoluta = frequencia_absoluta[palavra]\n",
    "    except:\n",
    "        absoluta = 0 #Se a palavra não estiver na lista retorna 0\n",
    "    if relevancia == 'relevante':\n",
    "        resultado = (absoluta + alpha)/(len(palav_relev)+alpha*len(palavras_sem_repeticao))\n",
    "    elif relevancia == 'irrelevante':\n",
    "        resultado = (absoluta + alpha)/(len(palav_irrelev)+alpha*len(palavras_sem_repeticao))\n",
    "    return resultado"
   ]
  },
  {
   "cell_type": "markdown",
   "metadata": {},
   "source": [
    "## Cálculo das Probabilidades condicionais "
   ]
  },
  {
   "cell_type": "code",
   "execution_count": 28,
   "metadata": {},
   "outputs": [],
   "source": [
    "# Probabilidade para fazer a desigualdade \n",
    "def prob(relevancia,frase):\n",
    "    if relevancia == 'relevante':\n",
    "        probTweetdadoR = 1\n",
    "        for a in frase.split():\n",
    "            probTweetdadoR *= smoothing(a, rel_freq_abs, palavras_sem_repeticao, relevancia)\n",
    "        probRdadoTweet = P_rel * probTweetdadoR\n",
    "        return probRdadoTweet\n",
    "    elif relevancia == 'irrelevante':\n",
    "        probTweetdadoI = 1\n",
    "        for b in frase.split():\n",
    "            probTweetdadoI *= smoothing(b, irr_freq_abs, palavras_sem_repeticao, relevancia)\n",
    "        probIdadoTweet = P_irr * probTweetdadoI\n",
    "        return probIdadoTweet\n",
    "        \n",
    "    \n",
    "    \n",
    "    "
   ]
  },
  {
   "cell_type": "markdown",
   "metadata": {},
   "source": [
    "## Classificador de Naive Bayes\n",
    "\n",
    "O Classificador de Naive Bayes se baseia na construção de um modelo bag-of-word. Na análise de sentimento, queremos responder a seguinte pergunta: \"Qual a probabilidade dessa frase ser relevante, dado esse conjunto de palavras?\". Nesse sentido, é necessário computar esse cálculo utilizando probabilidades condicionais e o resultado do teorema de Bayes encontrado na sessão anterior:\n",
    "\n",
    "\n",
    "Dessa forma, nós vamos usar essa relação para encontrar $P(R|frase)$, ou seja, a probabilidade de uma frase ser relevante, dado o conjunto de palavras. Se quisermos encontrar essa probabilidade faremos a seguinte operação:\n",
    "$$P(R|frase) = \\frac{P(frase|R).P(R)}{P(frase)}$$\n",
    "Para prosseguir, utilizaremos um processo de \"Tokenização\", que consiste em dividir a frase em pedaços menores (as palavras) e assumir que uma palavra não influencia na colocação da outra. Sabemos que isso não é verdade, mas utilizaremos por questões de simplificação (essa é a ingenuidade do classificador de Naive Bayes)\n",
    "\n",
    "De forma análoga é possivel encontrar:\n",
    "$$P(I|frase) = \\frac{P(frase|I).P(I)}{P(frase)}$$\n",
    "\n",
    "Agora, basta compararmos os valores das probabilidades:\n",
    "\n",
    "Se, $P(R|frase) > P(I|frase)$, então, é mais provável que a frase seja $relevante$\n",
    "\n",
    "Caso contrário, $P(R|frase) < P(I|frase)$, então, é mais provável que a frase seja $irrelevante$"
   ]
  },
  {
   "cell_type": "code",
   "execution_count": 29,
   "metadata": {},
   "outputs": [],
   "source": [
    "# modelo de naive para comparar as probabilidades\n",
    "def Naive(tweet):\n",
    "    if prob('relevante',tweet) > prob('irrelevante',tweet):\n",
    "        return 1\n",
    "    else:\n",
    "        return 0\n"
   ]
  },
  {
   "cell_type": "markdown",
   "metadata": {},
   "source": [
    "___\n",
    "### Verificando a performance do Classificador\n",
    "\n",
    "Agora você deve testar o seu classificador com a base de Testes."
   ]
  },
  {
   "cell_type": "code",
   "execution_count": 30,
   "metadata": {},
   "outputs": [],
   "source": [
    "train[\"Classificador\"]=train[\"Treinamento\"].apply(Naive)"
   ]
  },
  {
   "cell_type": "code",
   "execution_count": 31,
   "metadata": {},
   "outputs": [
    {
     "data": {
      "text/html": [
       "<div>\n",
       "<style scoped>\n",
       "    .dataframe tbody tr th:only-of-type {\n",
       "        vertical-align: middle;\n",
       "    }\n",
       "\n",
       "    .dataframe tbody tr th {\n",
       "        vertical-align: top;\n",
       "    }\n",
       "\n",
       "    .dataframe thead th {\n",
       "        text-align: right;\n",
       "    }\n",
       "</style>\n",
       "<table border=\"1\" class=\"dataframe\">\n",
       "  <thead>\n",
       "    <tr style=\"text-align: right;\">\n",
       "      <th></th>\n",
       "      <th>Treinamento</th>\n",
       "      <th>Relevância</th>\n",
       "      <th>Classificador</th>\n",
       "    </tr>\n",
       "  </thead>\n",
       "  <tbody>\n",
       "    <tr>\n",
       "      <th>0</th>\n",
       "      <td>namoral refrigerante melhor pepsip existe nenhum</td>\n",
       "      <td>1</td>\n",
       "      <td>1</td>\n",
       "    </tr>\n",
       "    <tr>\n",
       "      <th>1</th>\n",
       "      <td>pepsi baseado gravidade sobre pepsi sentido ne...</td>\n",
       "      <td>1</td>\n",
       "      <td>1</td>\n",
       "    </tr>\n",
       "    <tr>\n",
       "      <th>2</th>\n",
       "      <td>química kalunga pepsi patrocinadores ficaram b...</td>\n",
       "      <td>1</td>\n",
       "      <td>1</td>\n",
       "    </tr>\n",
       "    <tr>\n",
       "      <th>3</th>\n",
       "      <td>mataria refri geladinho pepsi geladeira</td>\n",
       "      <td>1</td>\n",
       "      <td>1</td>\n",
       "    </tr>\n",
       "    <tr>\n",
       "      <th>4</th>\n",
       "      <td>dionísio viciado pepsi</td>\n",
       "      <td>1</td>\n",
       "      <td>1</td>\n",
       "    </tr>\n",
       "    <tr>\n",
       "      <th>...</th>\n",
       "      <td>...</td>\n",
       "      <td>...</td>\n",
       "      <td>...</td>\n",
       "    </tr>\n",
       "    <tr>\n",
       "      <th>295</th>\n",
       "      <td>queria fazer drink laranja beber pepsi mesmo</td>\n",
       "      <td>0</td>\n",
       "      <td>0</td>\n",
       "    </tr>\n",
       "    <tr>\n",
       "      <th>296</th>\n",
       "      <td>minha falando pepsi caber geladeira “gordinha”...</td>\n",
       "      <td>0</td>\n",
       "      <td>0</td>\n",
       "    </tr>\n",
       "    <tr>\n",
       "      <th>297</th>\n",
       "      <td>triangular bread</td>\n",
       "      <td>0</td>\n",
       "      <td>0</td>\n",
       "    </tr>\n",
       "    <tr>\n",
       "      <th>298</th>\n",
       "      <td>acordei enjoo kerelho minha desculpa tomar cop...</td>\n",
       "      <td>1</td>\n",
       "      <td>1</td>\n",
       "    </tr>\n",
       "    <tr>\n",
       "      <th>299</th>\n",
       "      <td>pessoas pepsi kkkkkk</td>\n",
       "      <td>0</td>\n",
       "      <td>0</td>\n",
       "    </tr>\n",
       "  </tbody>\n",
       "</table>\n",
       "<p>300 rows × 3 columns</p>\n",
       "</div>"
      ],
      "text/plain": [
       "                                           Treinamento  Relevância  \\\n",
       "0     namoral refrigerante melhor pepsip existe nenhum           1   \n",
       "1    pepsi baseado gravidade sobre pepsi sentido ne...           1   \n",
       "2    química kalunga pepsi patrocinadores ficaram b...           1   \n",
       "3              mataria refri geladinho pepsi geladeira           1   \n",
       "4                               dionísio viciado pepsi           1   \n",
       "..                                                 ...         ...   \n",
       "295       queria fazer drink laranja beber pepsi mesmo           0   \n",
       "296  minha falando pepsi caber geladeira “gordinha”...           0   \n",
       "297                                   triangular bread           0   \n",
       "298  acordei enjoo kerelho minha desculpa tomar cop...           1   \n",
       "299                               pessoas pepsi kkkkkk           0   \n",
       "\n",
       "     Classificador  \n",
       "0                1  \n",
       "1                1  \n",
       "2                1  \n",
       "3                1  \n",
       "4                1  \n",
       "..             ...  \n",
       "295              0  \n",
       "296              0  \n",
       "297              0  \n",
       "298              1  \n",
       "299              0  \n",
       "\n",
       "[300 rows x 3 columns]"
      ]
     },
     "execution_count": 31,
     "metadata": {},
     "output_type": "execute_result"
    }
   ],
   "source": [
    "train"
   ]
  },
  {
   "cell_type": "code",
   "execution_count": 32,
   "metadata": {},
   "outputs": [
    {
     "name": "stdout",
     "output_type": "stream",
     "text": [
      "A porcentagem de verdadeiros positivos foi de 52.67%\n",
      "A porcentagem de falsos positivos foi de 4.00%\n"
     ]
    }
   ],
   "source": [
    "verdadeiros_positivos = train.loc[(train.Relevância == 1) & (train.Classificador == 1), :].shape[0]\n",
    "falsos_positivos = train.loc[(train.Relevância == 0) & (train.Classificador == 1), :].shape[0]\n",
    "\n",
    "print(f'A porcentagem de verdadeiros positivos foi de {100*verdadeiros_positivos/train.shape[0]:.2f}%')\n",
    "print(f'A porcentagem de falsos positivos foi de {100*falsos_positivos/train.shape[0]:.2f}%')"
   ]
  },
  {
   "cell_type": "code",
   "execution_count": 33,
   "metadata": {},
   "outputs": [
    {
     "name": "stdout",
     "output_type": "stream",
     "text": [
      "A porcentagem de verdadeiros positivos foi de 43.00%\n",
      "A porcentagem de falsos positivos foi de 0.33%\n"
     ]
    }
   ],
   "source": [
    "verdadeiros_negativos = train.loc[(train.Relevância == 0) & (train.Classificador == 0), :].shape[0]\n",
    "falsos_negativos = train.loc[(train.Relevância == 1) & (train.Classificador == 0), :].shape[0]\n",
    "\n",
    "print(f'A porcentagem de verdadeiros positivos foi de {100*verdadeiros_negativos/train.shape[0]:.2f}%')\n",
    "print(f'A porcentagem de falsos positivos foi de {100*falsos_negativos/train.shape[0]:.2f}%')"
   ]
  },
  {
   "cell_type": "code",
   "execution_count": 34,
   "metadata": {},
   "outputs": [
    {
     "name": "stdout",
     "output_type": "stream",
     "text": [
      "95.67%\n"
     ]
    }
   ],
   "source": [
    "acuracia = 100*(verdadeiros_positivos+verdadeiros_negativos)/train.shape[0]\n",
    "print(f'{acuracia:.2f}%')"
   ]
  },
  {
   "cell_type": "code",
   "execution_count": 35,
   "metadata": {},
   "outputs": [
    {
     "data": {
      "text/html": [
       "<div>\n",
       "<style scoped>\n",
       "    .dataframe tbody tr th:only-of-type {\n",
       "        vertical-align: middle;\n",
       "    }\n",
       "\n",
       "    .dataframe tbody tr th {\n",
       "        vertical-align: top;\n",
       "    }\n",
       "\n",
       "    .dataframe thead th {\n",
       "        text-align: right;\n",
       "    }\n",
       "</style>\n",
       "<table border=\"1\" class=\"dataframe\">\n",
       "  <thead>\n",
       "    <tr style=\"text-align: right;\">\n",
       "      <th></th>\n",
       "      <th>Teste</th>\n",
       "      <th>Relevância</th>\n",
       "      <th>Classificador</th>\n",
       "    </tr>\n",
       "  </thead>\n",
       "  <tbody>\n",
       "    <tr>\n",
       "      <th>0</th>\n",
       "      <td>pepsi coisa outro mundo</td>\n",
       "      <td>0</td>\n",
       "      <td>1</td>\n",
       "    </tr>\n",
       "    <tr>\n",
       "      <th>1</th>\n",
       "      <td>pepsi arena ficar muito empresa droga controla...</td>\n",
       "      <td>1</td>\n",
       "      <td>0</td>\n",
       "    </tr>\n",
       "    <tr>\n",
       "      <th>2</th>\n",
       "      <td>pepsi melhor</td>\n",
       "      <td>1</td>\n",
       "      <td>1</td>\n",
       "    </tr>\n",
       "    <tr>\n",
       "      <th>3</th>\n",
       "      <td>realizando pesquisa científica amigos saber co...</td>\n",
       "      <td>0</td>\n",
       "      <td>0</td>\n",
       "    </tr>\n",
       "    <tr>\n",
       "      <th>4</th>\n",
       "      <td>pizza tomando minha pepsi limão melhorou humor...</td>\n",
       "      <td>1</td>\n",
       "      <td>1</td>\n",
       "    </tr>\n",
       "    <tr>\n",
       "      <th>...</th>\n",
       "      <td>...</td>\n",
       "      <td>...</td>\n",
       "      <td>...</td>\n",
       "    </tr>\n",
       "    <tr>\n",
       "      <th>195</th>\n",
       "      <td>querer chato pessoal parece nunca refrigerante...</td>\n",
       "      <td>1</td>\n",
       "      <td>1</td>\n",
       "    </tr>\n",
       "    <tr>\n",
       "      <th>196</th>\n",
       "      <td>sonha pepsi</td>\n",
       "      <td>0</td>\n",
       "      <td>1</td>\n",
       "    </tr>\n",
       "    <tr>\n",
       "      <th>197</th>\n",
       "      <td>dropei cocacola beber pepsi homenagem minha qu...</td>\n",
       "      <td>0</td>\n",
       "      <td>0</td>\n",
       "    </tr>\n",
       "    <tr>\n",
       "      <th>198</th>\n",
       "      <td>esmagamento pepsi padrão açúcar sendo difícil ...</td>\n",
       "      <td>1</td>\n",
       "      <td>1</td>\n",
       "    </tr>\n",
       "    <tr>\n",
       "      <th>199</th>\n",
       "      <td>pedindo pepsi geladinha</td>\n",
       "      <td>0</td>\n",
       "      <td>0</td>\n",
       "    </tr>\n",
       "  </tbody>\n",
       "</table>\n",
       "<p>200 rows × 3 columns</p>\n",
       "</div>"
      ],
      "text/plain": [
       "                                                 Teste  Relevância  \\\n",
       "0                              pepsi coisa outro mundo           0   \n",
       "1    pepsi arena ficar muito empresa droga controla...           1   \n",
       "2                                         pepsi melhor           1   \n",
       "3    realizando pesquisa científica amigos saber co...           0   \n",
       "4    pizza tomando minha pepsi limão melhorou humor...           1   \n",
       "..                                                 ...         ...   \n",
       "195  querer chato pessoal parece nunca refrigerante...           1   \n",
       "196                                        sonha pepsi           0   \n",
       "197  dropei cocacola beber pepsi homenagem minha qu...           0   \n",
       "198  esmagamento pepsi padrão açúcar sendo difícil ...           1   \n",
       "199                            pedindo pepsi geladinha           0   \n",
       "\n",
       "     Classificador  \n",
       "0                1  \n",
       "1                0  \n",
       "2                1  \n",
       "3                0  \n",
       "4                1  \n",
       "..             ...  \n",
       "195              1  \n",
       "196              1  \n",
       "197              0  \n",
       "198              1  \n",
       "199              0  \n",
       "\n",
       "[200 rows x 3 columns]"
      ]
     },
     "execution_count": 35,
     "metadata": {},
     "output_type": "execute_result"
    }
   ],
   "source": [
    "test[\"Classificador\"] = test[\"Teste\"].apply(Naive)\n",
    "test"
   ]
  },
  {
   "cell_type": "code",
   "execution_count": 36,
   "metadata": {},
   "outputs": [
    {
     "name": "stdout",
     "output_type": "stream",
     "text": [
      "A porcentagem de verdadeiros positivos foi de 38.50%\n",
      "A porcentagem de falsos positivos foi de 28.00%\n"
     ]
    }
   ],
   "source": [
    "verdadeiros_positivos = test.loc[(test.Relevância == 1) & (test.Classificador == 1), :].shape[0]\n",
    "falsos_positivos = test.loc[(test.Relevância == 0) & (test.Classificador == 1), :].shape[0]\n",
    "\n",
    "print(f'A porcentagem de verdadeiros positivos foi de {100*verdadeiros_positivos/test.shape[0]:.2f}%')\n",
    "print(f'A porcentagem de falsos positivos foi de {100*falsos_positivos/test.shape[0]:.2f}%')"
   ]
  },
  {
   "cell_type": "code",
   "execution_count": 37,
   "metadata": {},
   "outputs": [
    {
     "name": "stdout",
     "output_type": "stream",
     "text": [
      "A porcentagem de verdadeiros negativos foi de 19.00%\n",
      "A porcentagem de falsos negativos foi de 14.50%\n"
     ]
    }
   ],
   "source": [
    "verdadeiros_negativos = test.loc[(test.Relevância == 0) & (test.Classificador == 0), :].shape[0]\n",
    "falsos_negativos = test.loc[(test.Relevância == 1) & (test.Classificador == 0), :].shape[0]\n",
    "\n",
    "print(f'A porcentagem de verdadeiros negativos foi de {100*verdadeiros_negativos/test.shape[0]:.2f}%')\n",
    "print(f'A porcentagem de falsos negativos foi de {100*falsos_negativos/test.shape[0]:.2f}%')"
   ]
  },
  {
   "cell_type": "code",
   "execution_count": 38,
   "metadata": {},
   "outputs": [
    {
     "name": "stdout",
     "output_type": "stream",
     "text": [
      "57.50%\n"
     ]
    }
   ],
   "source": [
    "acuracia = 100*(verdadeiros_positivos+verdadeiros_negativos)/test.shape[0]\n",
    "print(f'{acuracia:.2f}%')"
   ]
  },
  {
   "cell_type": "markdown",
   "metadata": {},
   "source": [
    "___\n",
    "### Concluindo"
   ]
  },
  {
   "cell_type": "markdown",
   "metadata": {},
   "source": [
    "No classificador que tem como objetivo de encontrar a relevância dos tweets relacionas a marca Pepsi, como visto acima foi obtido uma acurácia de 57.50%, com o percentual de 38.50% verdadeiros positivos e 19.00% negativos negativos, foi obtido também um percentual de 28.00% de falsos positivos e 14.50% de falsos negativos. \n",
    "\n",
    "\n",
    "<b> Por que não podemos usar o próprio classificador para gerar mais amostras de treinamento?</b> \n",
    "\n",
    "Nosso algoritmo de Naive Bayes a planilha de treinamento como algo que seja ideal para treinar o algoritmo,com isso tenta classificar outros tweets com base no que ela \"aprendeu\" observando a mesma. Isso faz com que esse classificador tenha problemas de classificação dado que se tem uma base pequena de dados para garantir a classificação dos demais. Para que fosse possível gerar mais amostras seria necessário ir atualizando a tabela treinamento para que o classificador aumente sua base de dados e fique mais preparado para classificar novos tweets de forma mais eficiente.\n",
    "\n",
    "<b> Diferentes cenários para Naïve Bayes</b> \n",
    "\n",
    "Uma das principais utilidades do algoritmo de $Naive Bayes$ no contexto contemporâneo é na distinção de e-mails para poder filtrar os indesejados $spams$ e para qualificar textos baseando-se na frequência de palavras usadas.\n",
    "\n",
    "O algoritmo de Naive Bayes pode ser utilizado para diminuir os acidentes de trânsitos. Com base nos movimentos oculares de motoristas que dirigiram cansados e guardando esses resultados em uma base de dados, seria possível alertar aos motoristas quando eles estivessem cansados para que fizessem um descanço antes de seguir viagem. Isso diminuiria drásticamente os acidentes em rodovias.\n",
    "\n",
    "Uma outra utilidade para essa ferramenta seria na distinção de mensagens suspeitas em redes socias para evitar os golpes virtuais que estão crescendo com o avanço da tecnologia. O algoritmo seria capaz de identificar as palavras mais frequentes nesse estilo de mensagens e sinalizar o usuário de que aquela mensagem tem um potencial risco de ser um golpe.\n",
    "\n",
    "Naive Bayes poderia também ser usado para direcionamento de pesquisas na internet. Guardando palavras-chave na sua base de dados e direcionando publicidades que encaixam com o perfil do usuário baseado no seu histórico de pesquisa.\n",
    "\n",
    "\n",
    "<b> Críticas e futuras iterações:</b> \n",
    "\n",
    "Para melhorar nosso classificador seria interessante implementar um stemming, processo de reduzir palavras flexionadas (ou às vezes derivadas) ao seu tronco (stem), base ou raiz, geralmente uma forma da palavra escrita, e aumentar a base de dados, para aumentar a precisão do classificador."
   ]
  },
  {
   "cell_type": "markdown",
   "metadata": {},
   "source": [
    "<b>Sarcasmo em Naive Bayes:</b>"
   ]
  },
  {
   "cell_type": "code",
   "execution_count": 57,
   "metadata": {},
   "outputs": [
    {
     "name": "stdout",
     "output_type": "stream",
     "text": [
      "A frase é IRRELEVANTE\n"
     ]
    }
   ],
   "source": [
    "frase = 'todo homem é viciado em pepsi'\n",
    "if Naive(frase) == 1:\n",
    "    print('A frase é RELEVANTE')\n",
    "else:\n",
    "    print('A frase é IRRELEVANTE')"
   ]
  },
  {
   "cell_type": "markdown",
   "metadata": {},
   "source": [
    "A ingenuidade em Naive Bayes analisa as palavras de forma isolada, dessa forma Naive Bayes não leva em consideração o contexto da frase. Assim como no exemplo acima:"
   ]
  },
  {
   "cell_type": "markdown",
   "metadata": {},
   "source": [
    "<b>Dupla Negação:</b>"
   ]
  },
  {
   "cell_type": "code",
   "execution_count": 60,
   "metadata": {},
   "outputs": [
    {
     "name": "stdout",
     "output_type": "stream",
     "text": [
      "A frase é IRRELEVANTE\n"
     ]
    }
   ],
   "source": [
    "frase2 = \"não quero não saber de pepsi\"\n",
    "if Naive(frase2) == 1:\n",
    "    print('A frase é RELEVANTE')\n",
    "else:\n",
    "    print('A frase é IRRELEVANTE')"
   ]
  },
  {
   "cell_type": "markdown",
   "metadata": {},
   "source": [
    "Da mesma forma do sarcasmo, Naive Bayes não consegue interpretar a dupla negação como algo positivo, pela motivo de analisar somente cada palavra individualmente. Como no exemplo acima:"
   ]
  },
  {
   "cell_type": "markdown",
   "metadata": {},
   "source": [
    "___\n",
    "### Qualidade do Classificador a partir de novas separações dos tweets entre Treinamento e Teste\n",
    "\n"
   ]
  },
  {
   "cell_type": "code",
   "execution_count": 39,
   "metadata": {},
   "outputs": [
    {
     "data": {
      "text/html": [
       "<div>\n",
       "<style scoped>\n",
       "    .dataframe tbody tr th:only-of-type {\n",
       "        vertical-align: middle;\n",
       "    }\n",
       "\n",
       "    .dataframe tbody tr th {\n",
       "        vertical-align: top;\n",
       "    }\n",
       "\n",
       "    .dataframe thead th {\n",
       "        text-align: right;\n",
       "    }\n",
       "</style>\n",
       "<table border=\"1\" class=\"dataframe\">\n",
       "  <thead>\n",
       "    <tr style=\"text-align: right;\">\n",
       "      <th></th>\n",
       "      <th>Geral</th>\n",
       "      <th>Relevância</th>\n",
       "    </tr>\n",
       "  </thead>\n",
       "  <tbody>\n",
       "    <tr>\n",
       "      <th>0</th>\n",
       "      <td>namoral refrigerante melhor pepsip existe nenhum</td>\n",
       "      <td>1</td>\n",
       "    </tr>\n",
       "    <tr>\n",
       "      <th>1</th>\n",
       "      <td>pepsi baseado gravidade sobre pepsi sentido ne...</td>\n",
       "      <td>1</td>\n",
       "    </tr>\n",
       "    <tr>\n",
       "      <th>2</th>\n",
       "      <td>química kalunga pepsi patrocinadores ficaram b...</td>\n",
       "      <td>1</td>\n",
       "    </tr>\n",
       "    <tr>\n",
       "      <th>3</th>\n",
       "      <td>mataria refri geladinho pepsi geladeira</td>\n",
       "      <td>1</td>\n",
       "    </tr>\n",
       "    <tr>\n",
       "      <th>4</th>\n",
       "      <td>dionísio viciado pepsi</td>\n",
       "      <td>1</td>\n",
       "    </tr>\n",
       "    <tr>\n",
       "      <th>...</th>\n",
       "      <td>...</td>\n",
       "      <td>...</td>\n",
       "    </tr>\n",
       "    <tr>\n",
       "      <th>195</th>\n",
       "      <td>querer chato pessoal parece nunca refrigerante...</td>\n",
       "      <td>1</td>\n",
       "    </tr>\n",
       "    <tr>\n",
       "      <th>196</th>\n",
       "      <td>sonha pepsi</td>\n",
       "      <td>0</td>\n",
       "    </tr>\n",
       "    <tr>\n",
       "      <th>197</th>\n",
       "      <td>dropei cocacola beber pepsi homenagem minha qu...</td>\n",
       "      <td>0</td>\n",
       "    </tr>\n",
       "    <tr>\n",
       "      <th>198</th>\n",
       "      <td>esmagamento pepsi padrão açúcar sendo difícil ...</td>\n",
       "      <td>1</td>\n",
       "    </tr>\n",
       "    <tr>\n",
       "      <th>199</th>\n",
       "      <td>pedindo pepsi geladinha</td>\n",
       "      <td>0</td>\n",
       "    </tr>\n",
       "  </tbody>\n",
       "</table>\n",
       "<p>500 rows × 2 columns</p>\n",
       "</div>"
      ],
      "text/plain": [
       "                                                 Geral  Relevância\n",
       "0     namoral refrigerante melhor pepsip existe nenhum           1\n",
       "1    pepsi baseado gravidade sobre pepsi sentido ne...           1\n",
       "2    química kalunga pepsi patrocinadores ficaram b...           1\n",
       "3              mataria refri geladinho pepsi geladeira           1\n",
       "4                               dionísio viciado pepsi           1\n",
       "..                                                 ...         ...\n",
       "195  querer chato pessoal parece nunca refrigerante...           1\n",
       "196                                        sonha pepsi           0\n",
       "197  dropei cocacola beber pepsi homenagem minha qu...           0\n",
       "198  esmagamento pepsi padrão açúcar sendo difícil ...           1\n",
       "199                            pedindo pepsi geladinha           0\n",
       "\n",
       "[500 rows x 2 columns]"
      ]
     },
     "execution_count": 39,
     "metadata": {},
     "output_type": "execute_result"
    }
   ],
   "source": [
    "test_split = pd.read_excel(filename, sheet_name = 'Teste').rename(columns={'Teste':'Geral'})\n",
    "train_split = pd.read_excel(filename, sheet_name = 'Treinamento').rename(columns={'Treinamento':'Geral'})\n",
    "\n",
    "#Concatenando\n",
    "data_total = pd.concat([train_split,test_split])\n",
    "\n",
    "#Limpando os tweets\n",
    "data_total['Geral'] = data_total['Geral'].apply(limpa_texto)\n",
    "data_total"
   ]
  },
  {
   "cell_type": "code",
   "execution_count": 40,
   "metadata": {},
   "outputs": [],
   "source": [
    "# Biblioteca necessária para fatiamento do conjunto de dados\n",
    "from sklearn.model_selection import train_test_split"
   ]
  },
  {
   "cell_type": "code",
   "execution_count": 41,
   "metadata": {},
   "outputs": [],
   "source": [
    "lista=[]\n",
    "\n",
    "for i in range(100):\n",
    "    \n",
    "    #training_data, testing_data = train_test_split(full_data, test_size=0.2, random_state=random.randint(1,500))\n",
    "    \n",
    "    X_train, X_test, y_train, y_test = train_test_split(data_total[['Geral','Relevância']],data_total.Relevância,\n",
    "    test_size=0.3)\n",
    "    \n",
    "    palavras_relevantes = X_train[X_train['Relevância']==1]\n",
    "    relev_string = ''\n",
    "    for tweet in palavras_relevantes:\n",
    "        relev_string += ' ' + tweet\n",
    "    palav_relev = stop_words(tokenization(relev_string))\n",
    "    \n",
    "    palavras_irrelevantes = X_train[X_train['Relevância']==0]\n",
    "    irrelev_string = ''\n",
    "    for tweet in palavras_irrelevantes:\n",
    "        irrelev_string += ' ' + tweet\n",
    "    palav_irrelev = stop_words(tokenization(irrelev_string))\n",
    "    \n",
    "    serie_relevantes = pd.Series(palav_relev)\n",
    "    serie_irrelevantes = pd.Series(palav_irrelev)\n",
    "    \n",
    "    # Gera duas listas com as palavras relevantes e irrelevantes, gera uma lista total e uma lista das palavras sem repetição\n",
    "    palavras_rel = list(palav_relev)\n",
    "    palavras_irrel = list(palav_irrelev)\n",
    "    palavras = palavras_rel + palavras_irrel\n",
    "    palavras_sem_repeticao = list(set(palavras))\n",
    "    \n",
    "    total = pd.Series(palavras)\n",
    "\n",
    "    # Frequencias absolutas\n",
    "    rel_freq_abs = serie_relevantes.value_counts()\n",
    "    irrel_freq_abs = serie_irrelevantes.value_counts()\n",
    "    tabela_todas_palavras_abs = total.value_counts()\n",
    "\n",
    "    P_R = len(palavras_rel) / len(total)\n",
    "\n",
    "    # Por complementar, temos P_Rc\n",
    "    P_Rc = len(palavras_irrel) / len(total)\n",
    "    \n",
    "    assert P_R+P_Rc==1\n",
    "\n",
    "    X_test['Classificador'] = X_test['Geral'].apply(Naive)\n",
    "\n",
    "    verdadeiros_positivos = X_test.loc[(X_test['Classificador'] == 1) & (X_test['Relevância'] == 1),:].shape[0]\n",
    "    verdadeiros_negativos = X_test.loc[(X_test['Classificador'] == 0) & (X_test['Relevância'] == 0),:].shape[0]\n",
    "    acuracia = (verdadeiros_positivos + verdadeiros_negativos)/X_test.shape[0]\n",
    "    lista.append(acuracia * 100)"
   ]
  },
  {
   "cell_type": "code",
   "execution_count": 48,
   "metadata": {},
   "outputs": [
    {
     "data": {
      "image/png": "[encoded data removed]",
      "text/plain": [
       "<Figure size 720x360 with 1 Axes>"
      ]
     },
     "metadata": {
      "needs_background": "light"
     },
     "output_type": "display_data"
    }
   ],
   "source": [
    "faixa=np.arange(30,99,1)\n",
    "plt.figure(figsize=(10, 5))\n",
    "plt.hist(lista, bins=faixa, edgecolor='black', density=False)\n",
    "plt.title('Frequencia das Porcentagens do modelo')\n",
    "plt.ylabel('Frequência')\n",
    "plt.xlabel('Porcentagem de acerto (%)')\n",
    "plt.xlim(30,60)\n",
    "plt.show()"
   ]
  },
  {
   "cell_type": "code",
   "execution_count": 47,
   "metadata": {},
   "outputs": [
    {
     "name": "stdout",
     "output_type": "stream",
     "text": [
      "Porcentagem máxima: 54.67%\n",
      "Porcentagem mínima: 36.67%\n",
      "Porcentagem média: 46.21%\n"
     ]
    }
   ],
   "source": [
    "print(f'Porcentagem máxima: {max(lista):.2f}%')\n",
    "print(f'Porcentagem mínima: {min(lista):.2f}%')\n",
    "print(f'Porcentagem média: {sum(lista)/len(lista):.2f}%')"
   ]
  },
  {
   "cell_type": "markdown",
   "metadata": {},
   "source": [
    "Pelo histograma vê-se que a acurácia do classificador depende da base de dados que é fornecida. Logo é importante ter grandes bases de dados para aumentar a precisão, tanto quanto escolher a melhor base de dados dentre as possíveis visando a máxima porcentagem de acurácia."
   ]
  },
  {
   "cell_type": "markdown",
   "metadata": {},
   "source": [
    "___\n",
    "## Aperfeiçoamento:\n",
    "\n",
    "Trabalhos que conseguirem pelo menos conceito B vão evoluir em conceito dependendo da quantidade de itens avançados:\n",
    "\n",
    "* IMPLEMENTOU outras limpezas e transformações que não afetem a qualidade da informação contida nos tweets. Ex: stemming, lemmatization, stopwords\n",
    "* CORRIGIU separação de espaços entre palavras e emojis ou entre emojis e emojis\n",
    "* CRIOU categorias intermediárias de relevância baseadas na probabilidade: ex.: muito relevante, relevante, neutro, irrelevante, muito irrelevante. Pelo menos quatro categorias, com adição de mais tweets na base, conforme enunciado. (OBRIGATÓRIO PARA TRIOS, sem contar como item avançado)\n",
    "* EXPLICOU porquê não pode usar o próprio classificador para gerar mais amostras de treinamento\n",
    "* PROPÔS diferentes cenários para Naïve Bayes fora do contexto do projeto\n",
    "* SUGERIU e EXPLICOU melhorias reais com indicações concretas de como implementar (indicar como fazer e indicar material de pesquisa)\n",
    "* FEZ o item 6. Qualidade do Classificador a partir de novas separações dos tweets entre Treinamento e Teste descrito no enunciado do projeto (OBRIGATÓRIO para conceitos A ou A+)"
   ]
  },
  {
   "cell_type": "markdown",
   "metadata": {},
   "source": [
    "___\n",
    "## Referências"
   ]
  },
  {
   "cell_type": "markdown",
   "metadata": {},
   "source": [
    "[Naive Bayes and Text Classification](https://arxiv.org/pdf/1410.5329.pdf)  **Mais completo**\n",
    "\n",
    "[A practical explanation of a Naive Bayes Classifier](https://monkeylearn.com/blog/practical-explanation-naive-bayes-classifier/) **Mais simples**"
   ]
  },
  {
   "cell_type": "code",
   "execution_count": null,
   "metadata": {},
   "outputs": [],
   "source": []
  }
 ],
 "metadata": {
  "kernelspec": {
   "display_name": "Python 3",
   "language": "python",
   "name": "python3"
  },
  "language_info": {
   "codemirror_mode": {
    "name": "ipython",
    "version": 3
   },
   "file_extension": ".py",
   "mimetype": "text/x-python",
   "name": "python",
   "nbconvert_exporter": "python",
   "pygments_lexer": "ipython3",
   "version": "3.8.5"
  }
 },
 "nbformat": 4,
 "nbformat_minor": 4
}
